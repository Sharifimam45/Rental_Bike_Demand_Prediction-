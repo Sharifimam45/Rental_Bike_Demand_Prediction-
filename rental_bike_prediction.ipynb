{
 "cells": [
  {
   "cell_type": "markdown",
   "id": "f1a3e483",
   "metadata": {},
   "source": [
    "# 🚲 Rental Bike Demand Prediction\n",
    "This notebook predicts bike rental counts using historical data from the Capital Bikeshare program."
   ]
  },
  {
   "cell_type": "code",
   "execution_count": null,
   "id": "a5d55832",
   "metadata": {},
   "outputs": [],
   "source": [
    "import pandas as pd\n",
    "import numpy as np\n",
    "import matplotlib.pyplot as plt\n",
    "import seaborn as sns\n",
    "from sklearn.model_selection import train_test_split\n",
    "from sklearn.ensemble import RandomForestRegressor\n",
    "from sklearn.metrics import mean_squared_error, r2_score\n",
    "import warnings\n",
    "warnings.filterwarnings('ignore')"
   ]
  },
  {
   "cell_type": "markdown",
   "id": "665bc04f",
   "metadata": {},
   "source": [
    "## 📥 Load Dataset"
   ]
  },
  {
   "cell_type": "code",
   "execution_count": null,
   "id": "db2cc161",
   "metadata": {},
   "outputs": [],
   "source": [
    "# Replace with the correct path if needed\n",
    "df = pd.read_csv('day.csv')\n",
    "df.head()"
   ]
  },
  {
   "cell_type": "markdown",
   "id": "bf00527f",
   "metadata": {},
   "source": [
    "## 📊 Data Overview"
   ]
  },
  {
   "cell_type": "code",
   "execution_count": null,
   "id": "7365af9b",
   "metadata": {},
   "outputs": [],
   "source": [
    "df.info()"
   ]
  },
  {
   "cell_type": "markdown",
   "id": "d6955769",
   "metadata": {},
   "source": [
    "## 🔧 Data Preprocessing"
   ]
  },
  {
   "cell_type": "code",
   "execution_count": null,
   "id": "04e83a92",
   "metadata": {},
   "outputs": [],
   "source": [
    "# Drop unnecessary columns\n",
    "df = df.drop(['instant', 'dteday', 'casual', 'registered'], axis=1)\n",
    "\n",
    "# Convert categorical columns\n",
    "categorical = ['season', 'yr', 'mnth', 'holiday', 'weekday', 'workingday', 'weathersit']\n",
    "df[categorical] = df[categorical].astype('category')\n",
    "df = pd.get_dummies(df, drop_first=True)\n",
    "df.head()"
   ]
  },
  {
   "cell_type": "markdown",
   "id": "ce795d5d",
   "metadata": {},
   "source": [
    "## 🧪 Train-Test Split"
   ]
  },
  {
   "cell_type": "code",
   "execution_count": null,
   "id": "43d19f90",
   "metadata": {},
   "outputs": [],
   "source": [
    "X = df.drop('cnt', axis=1)\n",
    "y = df['cnt']\n",
    "X_train, X_test, y_train, y_test = train_test_split(X, y, test_size=0.2, random_state=42)"
   ]
  },
  {
   "cell_type": "markdown",
   "id": "ea798b24",
   "metadata": {},
   "source": [
    "## 🤖 Train Random Forest Model"
   ]
  },
  {
   "cell_type": "code",
   "execution_count": null,
   "id": "7fc1340d",
   "metadata": {},
   "outputs": [],
   "source": [
    "model = RandomForestRegressor(n_estimators=100, random_state=42)\n",
    "model.fit(X_train, y_train)"
   ]
  },
  {
   "cell_type": "markdown",
   "id": "7f1e89fa",
   "metadata": {},
   "source": [
    "## 📈 Model Evaluation"
   ]
  },
  {
   "cell_type": "code",
   "execution_count": null,
   "id": "cb13617d",
   "metadata": {},
   "outputs": [],
   "source": [
    "y_pred = model.predict(X_test)\n",
    "rmse = np.sqrt(mean_squared_error(y_test, y_pred))\n",
    "r2 = r2_score(y_test, y_pred)\n",
    "print(f'RMSE: {rmse:.2f}')\n",
    "print(f'R² Score: {r2:.2f}')"
   ]
  },
  {
   "cell_type": "markdown",
   "id": "e542dd74",
   "metadata": {},
   "source": [
    "## 🔍 Feature Importance"
   ]
  },
  {
   "cell_type": "code",
   "execution_count": null,
   "id": "35b77cfe",
   "metadata": {},
   "outputs": [],
   "source": [
    "importances = pd.Series(model.feature_importances_, index=X.columns)\n",
    "importances.nlargest(10).plot(kind='barh')\n",
    "plt.title('Top 10 Important Features')\n",
    "plt.show()"
   ]
  }
 ],
 "metadata": {},
 "nbformat": 4,
 "nbformat_minor": 5
}
